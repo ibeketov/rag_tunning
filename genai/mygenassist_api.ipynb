{
 "cells": [
  {
   "cell_type": "code",
   "execution_count": 6,
   "metadata": {},
   "outputs": [],
   "source": [
    "import os\n",
    "\n",
    "from dotenv import load_dotenv, find_dotenv\n",
    "\n",
    "_ = load_dotenv(find_dotenv()) # read local .env file\n",
    "\n",
    "key = os.environ['MYGEN_KEY']"
   ]
  },
  {
   "cell_type": "code",
   "execution_count": 3,
   "metadata": {},
   "outputs": [],
   "source": [
    "json_data = {\n",
    "                \"messages\": [\n",
    "                    {\n",
    "                    \"role\": \"system\",\n",
    "                    \"content\": \"You are ChatGPT, a large language model trained by OpenAI. Follow the user's\\n                            instructions carefully. Respond using markdown.\"\n",
    "                    },\n",
    "                    {\n",
    "                    \"role\": \"user\",\n",
    "                    \"content\": \"Generate a short message to introduce yourself to the user.\"\n",
    "                    }\n",
    "                ],\n",
    "                \"model\": \"gpt-35-turbo-1106\",\n",
    "                \"temperature\": 0,\n",
    "                \"stream\": False,\n",
    "                \"regenerate\": False,\n",
    "                \"seed\": 834523,\n",
    "                \"response_format\": {\n",
    "                    \"type\": \"text\"\n",
    "                }\n",
    "            }"
   ]
  },
  {
   "cell_type": "code",
   "execution_count": 4,
   "metadata": {},
   "outputs": [],
   "source": [
    "import requests\n",
    "\n",
    "headers = {\n",
    "    'accept': 'application/json',\n",
    "    'x-baychatgpt-accesstoken': key,\n",
    "    'Content-Type': 'application/json',\n",
    "}\n",
    "\n",
    "\n",
    "\n",
    "response = requests.post('https://chat.int.bayer.com/api/v1/chat/completions', headers=headers, json=json_data)"
   ]
  },
  {
   "cell_type": "code",
   "execution_count": 7,
   "metadata": {},
   "outputs": [
    {
     "data": {
      "text/plain": [
       "{'id': 'msg-9e4d00c5-6497-4cb5-af3e-0b25eba9545d',\n",
       " 'object': 'chat.completion',\n",
       " 'created': 1704716279,\n",
       " 'model': 'gpt-35-turbo',\n",
       " 'usage': {'completion_tokens': 59, 'prompt_tokens': 50, 'total_tokens': 109},\n",
       " 'choices': [{'finish_reason': 'stop',\n",
       "   'index': 0,\n",
       "   'message': {'content': \"Hello there! I'm ChatGPT, an AI language model here to help you with a wide range of tasks. Whether you need assistance with writing, brainstorming ideas, or just want to have a conversation, I'm here to lend a virtual hand. How can I assist you today?\",\n",
       "    'role': 'assistant'},\n",
       "   'content_filter_result': {'error': {'code': 'content_filter_error',\n",
       "     'message': 'The contents are not filtered'}},\n",
       "   'content_filter_results': {}}],\n",
       " 'cache': False,\n",
       " 'cost': 0.000168}"
      ]
     },
     "execution_count": 7,
     "metadata": {},
     "output_type": "execute_result"
    }
   ],
   "source": [
    "response.json()"
   ]
  }
 ],
 "metadata": {
  "kernelspec": {
   "display_name": "genai-jA1zNfXX-py3.11",
   "language": "python",
   "name": "python3"
  },
  "language_info": {
   "codemirror_mode": {
    "name": "ipython",
    "version": 3
   },
   "file_extension": ".py",
   "mimetype": "text/x-python",
   "name": "python",
   "nbconvert_exporter": "python",
   "pygments_lexer": "ipython3",
   "version": "3.11.4"
  }
 },
 "nbformat": 4,
 "nbformat_minor": 2
}
