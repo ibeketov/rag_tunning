{
 "cells": [
  {
   "cell_type": "code",
   "execution_count": 5,
   "metadata": {},
   "outputs": [],
   "source": [
    "import os\n",
    "import openai\n",
    "\n",
    "from dotenv import load_dotenv, find_dotenv\n",
    "\n",
    "_ = load_dotenv(find_dotenv()) # read local .env file\n",
    "\n",
    "# openai.api_key  = os.environ['OPENAI_API_KEY']"
   ]
  },
  {
   "cell_type": "code",
   "execution_count": 7,
   "metadata": {},
   "outputs": [
    {
     "data": {
      "text/plain": [
       "'66d2c68fd9a88ca2b4b0f37008989e21b6e86145'"
      ]
     },
     "execution_count": 7,
     "metadata": {},
     "output_type": "execute_result"
    }
   ],
   "source": [
    "os.environ['MYGEN_KEY']"
   ]
  },
  {
   "cell_type": "code",
   "execution_count": 40,
   "metadata": {},
   "outputs": [],
   "source": [
    "json_data = {\n",
    "                \"messages\": [\n",
    "                    {\n",
    "                    \"role\": \"system\",\n",
    "                    \"content\": \"You are ChatGPT, a large language model trained by OpenAI. Follow the user's\\n                            instructions carefully. Respond using markdown.\"\n",
    "                    },\n",
    "                    {\n",
    "                    \"role\": \"user\",\n",
    "                    \"content\": \"Hello world!\"\n",
    "                    }\n",
    "                ],\n",
    "                \"model\": \"gpt-35-turbo-1106\",\n",
    "                \"temperature\": 0,\n",
    "                \"stream\": False,\n",
    "                \"regenerate\": False,\n",
    "                \"seed\": 834523,\n",
    "                \"response_format\": {\n",
    "                    \"type\": \"text\"\n",
    "                }\n",
    "                }"
   ]
  },
  {
   "cell_type": "code",
   "execution_count": 41,
   "metadata": {},
   "outputs": [],
   "source": [
    "import requests\n",
    "\n",
    "key = os.environ['MYGEN_KEY']\n",
    "\n",
    "\n",
    "headers = {\n",
    "    'accept': 'application/json',\n",
    "    'x-baychatgpt-accesstoken': key,\n",
    "    'Content-Type': 'application/json',\n",
    "}\n",
    "\n",
    "\n",
    "\n",
    "response = requests.post('https://chat.int.bayer.com/api/v1/chat/completions', headers=headers, json=json_data)"
   ]
  },
  {
   "cell_type": "code",
   "execution_count": 43,
   "metadata": {},
   "outputs": [
    {
     "data": {
      "text/plain": [
       "{'id': 'msg-2a9aec30-b6b0-4a50-b1ea-1ecbd44987a4',\n",
       " 'object': 'chat.completion',\n",
       " 'created': 1702470128,\n",
       " 'model': 'gpt-35-turbo',\n",
       " 'usage': {'completion_tokens': 10, 'prompt_tokens': 42, 'total_tokens': 52},\n",
       " 'choices': [{'finish_reason': 'stop',\n",
       "   'index': 0,\n",
       "   'message': {'content': 'Hi there! How can I assist you today?',\n",
       "    'role': 'assistant'},\n",
       "   'content_filter_results': {'hate': {'filtered': False, 'severity': 'safe'},\n",
       "    'self_harm': {'filtered': False, 'severity': 'safe'},\n",
       "    'sexual': {'filtered': False, 'severity': 'safe'},\n",
       "    'violence': {'filtered': False, 'severity': 'safe'}}}],\n",
       " 'cache': False,\n",
       " 'cost': 6.199999999999999e-05}"
      ]
     },
     "execution_count": 43,
     "metadata": {},
     "output_type": "execute_result"
    }
   ],
   "source": [
    "response.json()"
   ]
  }
 ],
 "metadata": {
  "kernelspec": {
   "display_name": "genai-jA1zNfXX-py3.11",
   "language": "python",
   "name": "python3"
  },
  "language_info": {
   "codemirror_mode": {
    "name": "ipython",
    "version": 3
   },
   "file_extension": ".py",
   "mimetype": "text/x-python",
   "name": "python",
   "nbconvert_exporter": "python",
   "pygments_lexer": "ipython3",
   "version": "3.11.4"
  }
 },
 "nbformat": 4,
 "nbformat_minor": 2
}
