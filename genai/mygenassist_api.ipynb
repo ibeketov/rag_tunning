{
 "cells": [
  {
   "cell_type": "code",
   "execution_count": 1,
   "metadata": {},
   "outputs": [],
   "source": [
    "import os\n",
    "\n",
    "from dotenv import load_dotenv, find_dotenv\n",
    "\n",
    "_ = load_dotenv(find_dotenv()) # read local .env file\n",
    "\n",
    "key = os.environ['MYGEN_KEY']"
   ]
  },
  {
   "cell_type": "code",
   "execution_count": 2,
   "metadata": {},
   "outputs": [],
   "source": [
    "json_data = {\n",
    "                \"messages\": [\n",
    "                    {\n",
    "                    \"role\": \"system\",\n",
    "                    \"content\": \"You are ChatGPT, a large language model trained by OpenAI. Follow the user's instructions carefully. Respond using markdown.\"\n",
    "                    },\n",
    "                    {\n",
    "                    \"role\": \"user\",\n",
    "                    \"content\": \"Generate a short message to introduce yourself to the user.\"\n",
    "                    }\n",
    "                ],\n",
    "                \"model\": \"gpt-35-turbo-1106\",\n",
    "                \"temperature\": 0,\n",
    "                \"stream\": False,\n",
    "                \"regenerate\": False,\n",
    "                \"seed\": 834523,\n",
    "                \"response_format\": {\n",
    "                    \"type\": \"text\"\n",
    "                }\n",
    "            }"
   ]
  },
  {
   "cell_type": "code",
   "execution_count": 3,
   "metadata": {},
   "outputs": [],
   "source": [
    "import requests\n",
    "\n",
    "headers = {\n",
    "    'accept': 'application/json',\n",
    "    'x-baychatgpt-accesstoken': key,\n",
    "    'Content-Type': 'application/json',\n",
    "}\n",
    "\n",
    "\n",
    "\n",
    "response = requests.post('https://chat.int.bayer.com/api/v1/chat/completions', headers=headers, json=json_data)"
   ]
  },
  {
   "cell_type": "code",
   "execution_count": 4,
   "metadata": {},
   "outputs": [
    {
     "data": {
      "text/plain": [
       "{'id': 'msg-9c9d5276-e4bb-42b9-a170-da7e8cd71792',\n",
       " 'object': 'chat.completion',\n",
       " 'created': 1714309250,\n",
       " 'model': 'gpt-35-turbo-1106',\n",
       " 'system_fingerprint': 'fp_2f57f81c11',\n",
       " 'usage': {'completion_tokens': 48, 'prompt_tokens': 48, 'total_tokens': 96},\n",
       " 'choices': [{'finish_reason': 'stop',\n",
       "   'index': 0,\n",
       "   'message': {'content': \"Hello there! I'm ChatGPT, an AI language model here to assist you with any questions or tasks you have in mind. Whether it's brainstorming ideas, writing, or just having a chat, I'm here to help!\",\n",
       "    'role': 'assistant'}}],\n",
       " 'cost': 0.00010079999999999998,\n",
       " 'metadata': {'conversation_id': 'conv-aac9903a-90f8-4778-b05b-213d03abd544'}}"
      ]
     },
     "execution_count": 4,
     "metadata": {},
     "output_type": "execute_result"
    }
   ],
   "source": [
    "response.json()"
   ]
  }
 ],
 "metadata": {
  "kernelspec": {
   "display_name": "genai-jA1zNfXX-py3.11",
   "language": "python",
   "name": "python3"
  },
  "language_info": {
   "codemirror_mode": {
    "name": "ipython",
    "version": 3
   },
   "file_extension": ".py",
   "mimetype": "text/x-python",
   "name": "python",
   "nbconvert_exporter": "python",
   "pygments_lexer": "ipython3",
   "version": "3.12.3"
  }
 },
 "nbformat": 4,
 "nbformat_minor": 2
}
