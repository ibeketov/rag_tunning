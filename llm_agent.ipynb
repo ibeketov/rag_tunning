{
 "cells": [
  {
   "cell_type": "code",
   "execution_count": 2,
   "metadata": {},
   "outputs": [],
   "source": [
    "from langchain import hub\n",
    "from langchain.agents import (\n",
    "    AgentExecutor,\n",
    "    create_openai_functions_agent,\n",
    "    create_openai_tools_agent,\n",
    ") # you can use either functions agent or tools agent - we recommend using tools agent as functions are deprecated \n",
    "from langchain_openai import ChatOpenAI\n"
   ]
  },
  {
   "cell_type": "code",
   "execution_count": 3,
   "metadata": {},
   "outputs": [],
   "source": [
    "import os\n",
    "from dotenv import load_dotenv, find_dotenv\n",
    "\n",
    "_ = load_dotenv(find_dotenv())"
   ]
  },
  {
   "cell_type": "code",
   "execution_count": 62,
   "metadata": {},
   "outputs": [],
   "source": [
    "open_source_model = ChatOpenAI(\n",
    "    base_url=os.environ['MYGEN_API'],\n",
    "    model=\"gpt-35-turbo\",\n",
    "    # model=\"deepmind/meta-llama-3-70b-instruct\", \n",
    "    api_key=os.environ['MYGEN_KEY'],\n",
    "    streaming=False,\n",
    ")"
   ]
  },
  {
   "cell_type": "code",
   "execution_count": 54,
   "metadata": {},
   "outputs": [
    {
     "data": {
      "text/plain": [
       "AIMessage(content=\"Collibra is a data catalog platform that helps organizations manage and make sense of their data assets. It provides a centralized inventory of an organization's data, making it easier to find, understand, and use data to drive business decisions.\\n\\nCollibra's data catalog is designed to help organizations overcome common data challenges, such as data sprawl, data quality issues, and lack of data visibility. The platform provides a single source of truth for an organization's data, allowing users to discover, understand, and trust their data.\\n\\nKey features of Collibra's data catalog include:\\n\\n1. Data Discovery: Collibra's data catalog allows users to search and discover data across the organization, regardless of where it's stored.\\n2. Data Profiling: The platform provides detailed information about each data asset, including its structure, quality, and relationships with other data assets.\\n3. Data Lineage: Collibra's data catalog tracks the origin, movement, and transformation of data across the organization, providing a clear understanding of data provenance.\\n4. Data Governance: The platform enables organizations to establish and enforce data governance policies, ensuring that data is accurate, complete, and compliant with regulations.\\n5. Collaboration: Collibra's data catalog provides a collaborative environment for data stakeholders to work together, share knowledge, and make data-driven decisions.\\n\\nBy using Collibra's data catalog, organizations can:\\n\\n1. Improve data quality and accuracy\\n2. Enhance data discovery and accessibility\\n3. Increase data-driven decision-making\\n4. Reduce data sprawl and redundancy\\n5. Meet regulatory requirements and ensure compliance\\n\\nOverall, Collibra's data catalog is a powerful tool for organizations seeking to unlock the value of their data and drive business success.\", response_metadata={'token_usage': {'completion_tokens': 352, 'prompt_tokens': 264, 'total_tokens': 616}, 'model_name': 'deepmind/meta-llama-3-70b-instruct', 'system_fingerprint': '2.0.1-native', 'finish_reason': 'stop', 'logprobs': None}, id='run-1feba883-d570-44d2-8740-9b85d8e7bfff-0')"
      ]
     },
     "execution_count": 54,
     "metadata": {},
     "output_type": "execute_result"
    }
   ],
   "source": [
    "open_source_model.invoke(\"What is Collibra data catalog?\")"
   ]
  },
  {
   "cell_type": "code",
   "execution_count": 37,
   "metadata": {},
   "outputs": [],
   "source": [
    "import numexpr\n",
    "from langchain import LLMMathChain\n",
    "from langchain.agents import create_openai_functions_agent\n",
    "from langchain.agents import AgentExecutor, Tool\n",
    "from langchain_core.prompts import ChatPromptTemplate\n",
    "\n",
    "\n",
    "prompt = ChatPromptTemplate.from_messages(\n",
    "    [\n",
    "        (\"system\", \"You are a helpful assistant\"),\n",
    "        (\"placeholder\", \"{chat_history}\"),  # if you want to include the chat history\n",
    "        (\"human\", \"{input}\"),\n",
    "        (\"placeholder\", \"{agent_scratchpad}\"), # intermediate agent actions and tool output messages will be passed in here\n",
    "    ]\n",
    ")\n",
    "\n",
    "\n",
    "llm_math_chain = LLMMathChain.from_llm(llm=open_source_model, verbose=True)\n",
    "\n",
    "tools = [Tool(\n",
    "        name=\"Calculator\",\n",
    "        func=llm_math_chain.run,\n",
    "        description=\"useful for when you need to answer questions about math\"\n",
    "    )]\n",
    "\n",
    "agent = create_openai_functions_agent(open_source_model, tools, prompt)\n",
    "agent_executor = AgentExecutor(agent=agent, tools=tools, verbose=True)"
   ]
  },
  {
   "cell_type": "code",
   "execution_count": 47,
   "metadata": {},
   "outputs": [
    {
     "data": {
      "text/plain": [
       "'[snippet: Collibra is a leading data governance and data catalog software platform that helps organizations manage, govern, and catalog their data assets effectively. It provides a centralized and collaborative environment for data governance, data lineage, data stewardship, and data cataloging. Collibra enables data-driven organizations to ensure data ..., title: What is Collibra and use cases of Collibra? - DevOpsSchool.com, link: https://www.devopsschool.com/blog/what-is-collibra-and-use-cases-of-collibra/]'"
      ]
     },
     "execution_count": 47,
     "metadata": {},
     "output_type": "execute_result"
    }
   ],
   "source": [
    "from langchain_community.tools import DuckDuckGoSearchResults\n",
    "search = DuckDuckGoSearchResults(num_results=1)\n",
    "search.run(\"What is collibra?\")"
   ]
  },
  {
   "cell_type": "code",
   "execution_count": 36,
   "metadata": {},
   "outputs": [
    {
     "name": "stdout",
     "output_type": "stream",
     "text": [
      "\n",
      "\n",
      "\u001b[1m> Entering new AgentExecutor chain...\u001b[0m\n",
      "\u001b[32;1m\u001b[1;3m\n",
      "Invoking: `Calculator` with `3096 / 3439.6`\n",
      "\n",
      "\n",
      "\u001b[0m\n",
      "\n",
      "\u001b[1m> Entering new LLMMathChain chain...\u001b[0m\n",
      "3096 / 3439.6\u001b[32;1m\u001b[1;3m```text\n",
      "3096 / 3439.6\n",
      "```\n",
      "...numexpr.evaluate(\"3096 / 3439.6\")...\n",
      "\u001b[0m\n",
      "Answer: \u001b[33;1m\u001b[1;3m0.9001046633329457\u001b[0m\n",
      "\u001b[1m> Finished chain.\u001b[0m\n",
      "\u001b[36;1m\u001b[1;3mAnswer: 0.9001046633329457\u001b[0m\u001b[32;1m\u001b[1;3m3096 divided by 3439.6 is approximately 0.9001\u001b[0m\n",
      "\n",
      "\u001b[1m> Finished chain.\u001b[0m\n"
     ]
    },
    {
     "data": {
      "text/plain": [
       "{'input': 'what is 3096 divided by 3439.6?',\n",
       " 'output': '3096 divided by 3439.6 is approximately 0.9001'}"
      ]
     },
     "execution_count": 36,
     "metadata": {},
     "output_type": "execute_result"
    }
   ],
   "source": [
    "agent_executor.invoke({\"input\": \"what is 3096 divided by 3439.6?\"})"
   ]
  },
  {
   "cell_type": "code",
   "execution_count": 63,
   "metadata": {},
   "outputs": [],
   "source": [
    "from langchain_community.tools import DuckDuckGoSearchResults\n",
    "\n",
    "duckduck_tool = DuckDuckGoSearchResults(\n",
    "    name=\"duck_duck_go_search\",\n",
    "    verbose=True,\n",
    "    num_results=1\n",
    ")\n",
    "\n",
    "tools = [\n",
    "    duckduck_tool\n",
    "]"
   ]
  },
  {
   "cell_type": "code",
   "execution_count": 64,
   "metadata": {},
   "outputs": [],
   "source": [
    "prompt = hub.pull(\"hwchase17/openai-tools-agent\")\n",
    "\n",
    "agent = create_openai_tools_agent(\n",
    "    open_source_model,\n",
    "    tools,\n",
    "    prompt\n",
    ")\n",
    "\n",
    "agent_executor = AgentExecutor(\n",
    "    agent=agent,\n",
    "    tools=tools,\n",
    "    verbose=True,\n",
    "    handle_parsing_errors=True\n",
    ")"
   ]
  },
  {
   "cell_type": "code",
   "execution_count": 65,
   "metadata": {},
   "outputs": [
    {
     "name": "stdout",
     "output_type": "stream",
     "text": [
      "\n",
      "\n",
      "\u001b[1m> Entering new AgentExecutor chain...\u001b[0m\n",
      "\u001b[32;1m\u001b[1;3m\n",
      "Invoking: `duck_duck_go_search` with `{'query': 'Collibra Data Catalog'}`\n",
      "\n",
      "\n",
      "\u001b[0m\u001b[36;1m\u001b[1;3m[snippet: Collibra's proven, pre-configured services get your integrations, data catalog, and lineage ready to go in days instead of months. The implementation is designed to deliver the most important, high-impact features first so that your team can start extracting immediate value. Avoid risks with established best practices that ensure things get ..., title: Getting started with a data catalog | Collibra, link: https://www.collibra.com/us/en/blog/getting-started-with-a-data-catalog]\u001b[0m\u001b[32;1m\u001b[1;3mCollibra is known for its proven, pre-configured services that get integrations, data catalog, and lineage ready to go in days instead of months. The implementation is designed to deliver the most important, high-impact features first so that your team can start extracting immediate value. You can find more information about getting started with a data catalog from Collibra on their website: [Getting started with a data catalog | Collibra](https://www.collibra.com/us/en/blog/getting-started-with-a-data-catalog)\u001b[0m\n",
      "\n",
      "\u001b[1m> Finished chain.\u001b[0m\n"
     ]
    }
   ],
   "source": [
    "response = agent_executor.invoke(\n",
    "    {\n",
    "        \"input\": \"use tools agent to find information about collibra data catalog\",\n",
    "    }\n",
    ")"
   ]
  },
  {
   "cell_type": "code",
   "execution_count": 66,
   "metadata": {},
   "outputs": [
    {
     "data": {
      "text/plain": [
       "{'input': 'use tools agent to find information about collibra data catalog',\n",
       " 'output': 'Collibra is known for its proven, pre-configured services that get integrations, data catalog, and lineage ready to go in days instead of months. The implementation is designed to deliver the most important, high-impact features first so that your team can start extracting immediate value. You can find more information about getting started with a data catalog from Collibra on their website: [Getting started with a data catalog | Collibra](https://www.collibra.com/us/en/blog/getting-started-with-a-data-catalog)'}"
      ]
     },
     "execution_count": 66,
     "metadata": {},
     "output_type": "execute_result"
    }
   ],
   "source": [
    "response"
   ]
  }
 ],
 "metadata": {
  "kernelspec": {
   "display_name": "rag-tunning-FgP2pcAi-py3.12",
   "language": "python",
   "name": "python3"
  },
  "language_info": {
   "codemirror_mode": {
    "name": "ipython",
    "version": 3
   },
   "file_extension": ".py",
   "mimetype": "text/x-python",
   "name": "python",
   "nbconvert_exporter": "python",
   "pygments_lexer": "ipython3",
   "version": "3.12.3"
  }
 },
 "nbformat": 4,
 "nbformat_minor": 2
}
